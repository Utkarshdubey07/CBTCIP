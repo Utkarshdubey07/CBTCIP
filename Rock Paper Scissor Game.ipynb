{
 "cells": [
  {
   "cell_type": "code",
   "execution_count": 1,
   "id": "6c169ca6",
   "metadata": {},
   "outputs": [
    {
     "name": "stdout",
     "output_type": "stream",
     "text": [
      "START[1] | EXIT[0]\n",
      "1\n",
      "ROCK[1] , PAPER[2] , SCISSOR[3]\n",
      "3\n",
      "PC choose : PAPER\n",
      "YOU WIN\n",
      "TRY AGAIN ?? >> YES[1] | NO[0]\n",
      "0\n",
      "THANK YOU\n"
     ]
    }
   ],
   "source": [
    "\n",
    "# Utkarsh_Dubey | Cipherbyte Technologies\n",
    "\n",
    "import random                                             #random number generate\n",
    "\n",
    "def random_num_gen():\n",
    "    ran_num = random.randint(1,3)                         # random number from 1 to 3\n",
    "    return ran_num\n",
    "\n",
    "def check(player,pc):                                     # game rules\n",
    "    if (player == pc):\n",
    "        return \"DRAW\"\n",
    "    if (player == 1 and pc == 3) or (player == 2 and pc == 1) or (player == 3 and pc == 2):\n",
    "        return \"YOU WIN\"\n",
    "    if (player == 1 and pc == 2) or (player == 2 and pc == 3) or (player == 3 and pc == 1):\n",
    "        return \"PC WIN\"\n",
    "\n",
    "def game():\n",
    "    print(\"ROCK[1] , PAPER[2] , SCISSOR[3]\") # user screen output\n",
    "    user = int(input())\n",
    "    randm_num = random_num_gen()\n",
    "    if randm_num == 1:\n",
    "        print(\"PC choose : ROCK\")\n",
    "    elif randm_num == 2:\n",
    "        print(\"PC choose : PAPER\")\n",
    "    elif randm_num == 3:\n",
    "        print(\"PC choose : SCISSOR\")\n",
    "    decision = check(user, randm_num)\n",
    "    return decision\n",
    "\n",
    "# Start the Game :\n",
    "\n",
    "print(\"START[1] | EXIT[0]\")\n",
    "player_choice = int(input())\n",
    "if player_choice == 1:\n",
    "    while True:\n",
    "        final_result = game() # loop for continue the game till exit\n",
    "        print(final_result)\n",
    "        print(\"TRY AGAIN ?? >> YES[1] | NO[0]\") # game continue or not\n",
    "        player_choice = int(input())\n",
    "        if player_choice ==1:\n",
    "            continue\n",
    "        else:\n",
    "            break\n",
    "print(\"THANK YOU\")   # End of the game"
   ]
  },
  {
   "cell_type": "code",
   "execution_count": null,
   "id": "d2a769bf",
   "metadata": {},
   "outputs": [],
   "source": []
  }
 ],
 "metadata": {
  "kernelspec": {
   "display_name": "Python 3 (ipykernel)",
   "language": "python",
   "name": "python3"
  },
  "language_info": {
   "codemirror_mode": {
    "name": "ipython",
    "version": 3
   },
   "file_extension": ".py",
   "mimetype": "text/x-python",
   "name": "python",
   "nbconvert_exporter": "python",
   "pygments_lexer": "ipython3",
   "version": "3.11.4"
  }
 },
 "nbformat": 4,
 "nbformat_minor": 5
}
